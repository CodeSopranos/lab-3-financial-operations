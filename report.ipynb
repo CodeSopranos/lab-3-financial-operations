{
 "cells": [
  {
   "cell_type": "markdown",
   "metadata": {},
   "source": [
    "# Лабораторная работа №3\n",
    "рынок: **Китай** <br>\n",
    "период: **2018 год**\n",
    "\n",
    "Седунов Илья, <br>\n",
    "Альперович Вадим, <br>\n",
    "Славутин Александр, <br>\n",
    "17ПМИ."
   ]
  },
  {
   "cell_type": "code",
   "execution_count": 3,
   "metadata": {},
   "outputs": [],
   "source": [
    "import random\n",
    "import numpy as np\n",
    "import pandas as pd\n",
    "import yfinance as yf\n",
    "import matplotlib.pyplot as plt\n",
    "from tqdm import tqdm_notebook\n",
    "import warnings\n",
    "import seaborn as sns\n",
    "from seaborn import set_style\n",
    "set_style('dark')\n",
    "warnings.simplefilter('ignore')"
   ]
  },
  {
   "cell_type": "markdown",
   "metadata": {},
   "source": [
    "### Подготовка модели.\n",
    "\n",
    "- Выберите на рынке 20 активов (N=20).\n",
    "\n",
    "- По наблюдениям за 2018 год оцените математические ожидания доходностей и матрицу ковариаций доходностей (используйте выборочную матрицу ковариаций). \n",
    "\n",
    "- Найденные вектор средних и матрица ковариаций будут далее использованы в экспериментах как «истинные» вектор E=(E1, E2, …, EN) и матрица ковариаций (σi,j).\n",
    "\n",
    "- Убедитесь, что матрица ковариаций невырожденная (если она близка к вырожденной, то измените состав активов). \n"
   ]
  },
  {
   "cell_type": "code",
   "execution_count": 383,
   "metadata": {},
   "outputs": [
    {
     "name": "stdout",
     "output_type": "stream",
     "text": [
      "Количество китайских тикеров = 1000\n"
     ]
    }
   ],
   "source": [
    "# Сбор случайных 250 активов Китайского рынка за 2018 год\n",
    "\n",
    "# random.seed(100)\n",
    "\n",
    "df = pd.read_excel('data/china_stocks.xlsx').drop_duplicates(['Symbol'])\n",
    "symbols = list(df['Symbol'])\n",
    "symbols = random.choices(symbols, k=1000)\n",
    "print('Количество китайских тикеров =', len(symbols))"
   ]
  },
  {
   "cell_type": "code",
   "execution_count": 384,
   "metadata": {
    "scrolled": true
   },
   "outputs": [
    {
     "name": "stdout",
     "output_type": "stream",
     "text": [
      "Акции собраны!\n"
     ]
    }
   ],
   "source": [
    "from IPython.display import clear_output\n",
    "start = \"2018-01-01\"\n",
    "end   = \"2018-12-31\"\n",
    "stocks = {}\n",
    "\n",
    "for symbol in tqdm_notebook(symbols):\n",
    "    stock = yf.download(symbol, start=start, end=end, progress=False)\n",
    "    if stock[~np.isnan(stock['Close'])].shape[0] < 220:\n",
    "        print('Drop because of nan values', symbol)\n",
    "        continue\n",
    "    stock['return'] = stock['Close'] / stock['Close'].shift(1)\n",
    "    stock['log_return'] = np.log(stock['return'])\n",
    "    stocks[symbol] = stock\n",
    "clear_output()\n",
    "print('Акции собраны!')\n",
    "\n",
    "# удаление пустых записей\n",
    "\n",
    "for symbol in symbols:\n",
    "    try:\n",
    "        stocks[symbol] = stocks[symbol].dropna()\n",
    "    except:\n",
    "        continue"
   ]
  },
  {
   "cell_type": "code",
   "execution_count": 385,
   "metadata": {},
   "outputs": [
    {
     "data": {
      "application/vnd.jupyter.widget-view+json": {
       "model_id": "7aae4b48ef8447b2b742c67ab531e198",
       "version_major": 2,
       "version_minor": 0
      },
      "text/plain": [
       "HBox(children=(FloatProgress(value=0.0, max=1000.0), HTML(value='')))"
      ]
     },
     "metadata": {},
     "output_type": "display_data"
    },
    {
     "name": "stdout",
     "output_type": "stream",
     "text": [
      "\n",
      "Осталось активов после обработки 789\n"
     ]
    }
   ],
   "source": [
    "# сбор общей статистики\n",
    "\n",
    "stock_stat = pd.DataFrame(columns=['symbol',  'E', 'Sigma', 'mean_vol', 'n_observations'])\n",
    "for symbol in tqdm_notebook(symbols):\n",
    "    try:\n",
    "        stock = stocks[symbol].dropna()\n",
    "        stock_stat.loc[symbol] = [symbol,\n",
    "                                  stock['log_return'].mean(),\n",
    "                                  stock['log_return'].std(), \n",
    "                                  stock['Volume'].mean(), \n",
    "                                  len(stock)]\n",
    "    except:\n",
    "        continue\n",
    "stock_stat.dropna(inplace=True)\n",
    "print('Осталось активов после обработки', len(stock_stat))"
   ]
  },
  {
   "cell_type": "code",
   "execution_count": 403,
   "metadata": {},
   "outputs": [],
   "source": [
    "def get_return_mean_cov(df, sse_components=False): \n",
    "    # получить по выбранным активам матрицу их доходностей, \n",
    "    # вектор средних доходностей и матрицу ковариации\n",
    "    \n",
    "    r_matrix = {}\n",
    "    if sse_components:\n",
    "        for i in range(len(df)):\n",
    "            symbol = df.index[i]\n",
    "            r_matrix[symbol] = sse_stocks[symbol]['log_return']\n",
    "    else:\n",
    "        for symbol in df['symbol']:\n",
    "            r_matrix[symbol] = stocks[symbol]['log_return'] \n",
    "    r_df = pd.DataFrame(r_matrix).dropna()\n",
    "    return r_df.values, r_df.mean().values, r_df.cov().values\n",
    "\n",
    "def plot_mean_var_map(df,x='Sigma', y='E', title='Карта активов:σ от E', figsize=(12, 6)):\n",
    "    # получить карту риск от дохоности\n",
    "    \n",
    "    ax = df.plot(x=x, y=y, s=np.log(df['mean_vol']**3), \n",
    "                          kind='scatter', \n",
    "                          figsize=figsize, \n",
    "                          edgecolor='black',\n",
    "                          grid=True)\n",
    "    plt.xlabel('Sigma', size=15)\n",
    "    plt.ylabel('E', size=15)\n",
    "    plt.title(title, size=16)"
   ]
  },
  {
   "cell_type": "markdown",
   "metadata": {},
   "source": [
    "Выберем 20 активов с наибольшей платой за риск"
   ]
  },
  {
   "cell_type": "code",
   "execution_count": 408,
   "metadata": {},
   "outputs": [
    {
     "data": {
      "text/html": [
       "<div>\n",
       "<style scoped>\n",
       "    .dataframe tbody tr th:only-of-type {\n",
       "        vertical-align: middle;\n",
       "    }\n",
       "\n",
       "    .dataframe tbody tr th {\n",
       "        vertical-align: top;\n",
       "    }\n",
       "\n",
       "    .dataframe thead th {\n",
       "        text-align: right;\n",
       "    }\n",
       "</style>\n",
       "<table border=\"1\" class=\"dataframe\">\n",
       "  <thead>\n",
       "    <tr style=\"text-align: right;\">\n",
       "      <th></th>\n",
       "      <th>symbol</th>\n",
       "      <th>E</th>\n",
       "      <th>Sigma</th>\n",
       "      <th>mean_vol</th>\n",
       "      <th>n_observations</th>\n",
       "      <th>sharp</th>\n",
       "    </tr>\n",
       "  </thead>\n",
       "  <tbody>\n",
       "    <tr>\n",
       "      <th>300253.SZ</th>\n",
       "      <td>300253.SZ</td>\n",
       "      <td>0.002496</td>\n",
       "      <td>0.035459</td>\n",
       "      <td>3.930903e+07</td>\n",
       "      <td>242</td>\n",
       "      <td>4.387544e-07</td>\n",
       "    </tr>\n",
       "    <tr>\n",
       "      <th>002493.SZ</th>\n",
       "      <td>002493.SZ</td>\n",
       "      <td>0.002565</td>\n",
       "      <td>0.042951</td>\n",
       "      <td>6.305511e+06</td>\n",
       "      <td>242</td>\n",
       "      <td>3.927145e-07</td>\n",
       "    </tr>\n",
       "    <tr>\n",
       "      <th>300684.SZ</th>\n",
       "      <td>300684.SZ</td>\n",
       "      <td>0.002879</td>\n",
       "      <td>0.066310</td>\n",
       "      <td>6.448567e+06</td>\n",
       "      <td>242</td>\n",
       "      <td>3.598880e-07</td>\n",
       "    </tr>\n",
       "    <tr>\n",
       "      <th>000860.SZ</th>\n",
       "      <td>000860.SZ</td>\n",
       "      <td>0.002107</td>\n",
       "      <td>0.034167</td>\n",
       "      <td>1.468111e+07</td>\n",
       "      <td>242</td>\n",
       "      <td>2.739253e-07</td>\n",
       "    </tr>\n",
       "    <tr>\n",
       "      <th>300451.SZ</th>\n",
       "      <td>300451.SZ</td>\n",
       "      <td>0.001969</td>\n",
       "      <td>0.036965</td>\n",
       "      <td>2.510828e+07</td>\n",
       "      <td>242</td>\n",
       "      <td>2.066502e-07</td>\n",
       "    </tr>\n",
       "    <tr>\n",
       "      <th>300012.SZ</th>\n",
       "      <td>300012.SZ</td>\n",
       "      <td>0.001625</td>\n",
       "      <td>0.028842</td>\n",
       "      <td>2.107810e+07</td>\n",
       "      <td>242</td>\n",
       "      <td>1.488628e-07</td>\n",
       "    </tr>\n",
       "    <tr>\n",
       "      <th>600132.SS</th>\n",
       "      <td>600132.SS</td>\n",
       "      <td>0.001559</td>\n",
       "      <td>0.028038</td>\n",
       "      <td>3.242524e+06</td>\n",
       "      <td>242</td>\n",
       "      <td>1.352598e-07</td>\n",
       "    </tr>\n",
       "    <tr>\n",
       "      <th>600763.SS</th>\n",
       "      <td>600763.SS</td>\n",
       "      <td>0.001619</td>\n",
       "      <td>0.032272</td>\n",
       "      <td>4.122048e+06</td>\n",
       "      <td>242</td>\n",
       "      <td>1.315653e-07</td>\n",
       "    </tr>\n",
       "    <tr>\n",
       "      <th>601888.SS</th>\n",
       "      <td>601888.SS</td>\n",
       "      <td>0.001386</td>\n",
       "      <td>0.029371</td>\n",
       "      <td>1.113734e+07</td>\n",
       "      <td>242</td>\n",
       "      <td>9.056902e-08</td>\n",
       "    </tr>\n",
       "    <tr>\n",
       "      <th>300595.SZ</th>\n",
       "      <td>300595.SZ</td>\n",
       "      <td>0.001268</td>\n",
       "      <td>0.031358</td>\n",
       "      <td>3.464182e+06</td>\n",
       "      <td>242</td>\n",
       "      <td>6.508686e-08</td>\n",
       "    </tr>\n",
       "    <tr>\n",
       "      <th>600810.SS</th>\n",
       "      <td>600810.SS</td>\n",
       "      <td>0.001356</td>\n",
       "      <td>0.040257</td>\n",
       "      <td>2.443837e+07</td>\n",
       "      <td>242</td>\n",
       "      <td>6.194716e-08</td>\n",
       "    </tr>\n",
       "    <tr>\n",
       "      <th>600436.SS</th>\n",
       "      <td>600436.SS</td>\n",
       "      <td>0.001154</td>\n",
       "      <td>0.027695</td>\n",
       "      <td>5.524904e+06</td>\n",
       "      <td>242</td>\n",
       "      <td>5.555039e-08</td>\n",
       "    </tr>\n",
       "    <tr>\n",
       "      <th>600027.SS</th>\n",
       "      <td>600027.SS</td>\n",
       "      <td>0.000977</td>\n",
       "      <td>0.019595</td>\n",
       "      <td>2.696431e+07</td>\n",
       "      <td>242</td>\n",
       "      <td>4.756549e-08</td>\n",
       "    </tr>\n",
       "    <tr>\n",
       "      <th>300015.SZ</th>\n",
       "      <td>300015.SZ</td>\n",
       "      <td>0.001074</td>\n",
       "      <td>0.028590</td>\n",
       "      <td>1.795482e+07</td>\n",
       "      <td>242</td>\n",
       "      <td>4.332596e-08</td>\n",
       "    </tr>\n",
       "    <tr>\n",
       "      <th>300001.SZ</th>\n",
       "      <td>300001.SZ</td>\n",
       "      <td>0.000995</td>\n",
       "      <td>0.023746</td>\n",
       "      <td>5.388852e+06</td>\n",
       "      <td>242</td>\n",
       "      <td>4.143435e-08</td>\n",
       "    </tr>\n",
       "    <tr>\n",
       "      <th>300132.SZ</th>\n",
       "      <td>300132.SZ</td>\n",
       "      <td>0.001086</td>\n",
       "      <td>0.031851</td>\n",
       "      <td>8.536670e+06</td>\n",
       "      <td>242</td>\n",
       "      <td>4.022890e-08</td>\n",
       "    </tr>\n",
       "    <tr>\n",
       "      <th>300670.SZ</th>\n",
       "      <td>300670.SZ</td>\n",
       "      <td>0.001117</td>\n",
       "      <td>0.042251</td>\n",
       "      <td>9.303179e+06</td>\n",
       "      <td>242</td>\n",
       "      <td>3.295032e-08</td>\n",
       "    </tr>\n",
       "    <tr>\n",
       "      <th>600588.SS</th>\n",
       "      <td>600588.SS</td>\n",
       "      <td>0.001067</td>\n",
       "      <td>0.037131</td>\n",
       "      <td>3.811122e+07</td>\n",
       "      <td>242</td>\n",
       "      <td>3.269013e-08</td>\n",
       "    </tr>\n",
       "    <tr>\n",
       "      <th>002455.SZ</th>\n",
       "      <td>002455.SZ</td>\n",
       "      <td>0.001232</td>\n",
       "      <td>0.058895</td>\n",
       "      <td>3.086368e+06</td>\n",
       "      <td>242</td>\n",
       "      <td>3.174271e-08</td>\n",
       "    </tr>\n",
       "    <tr>\n",
       "      <th>002506.SZ</th>\n",
       "      <td>002506.SZ</td>\n",
       "      <td>0.000672</td>\n",
       "      <td>0.017306</td>\n",
       "      <td>1.933118e+07</td>\n",
       "      <td>242</td>\n",
       "      <td>1.750110e-08</td>\n",
       "    </tr>\n",
       "  </tbody>\n",
       "</table>\n",
       "</div>"
      ],
      "text/plain": [
       "              symbol         E     Sigma      mean_vol n_observations  \\\n",
       "300253.SZ  300253.SZ  0.002496  0.035459  3.930903e+07            242   \n",
       "002493.SZ  002493.SZ  0.002565  0.042951  6.305511e+06            242   \n",
       "300684.SZ  300684.SZ  0.002879  0.066310  6.448567e+06            242   \n",
       "000860.SZ  000860.SZ  0.002107  0.034167  1.468111e+07            242   \n",
       "300451.SZ  300451.SZ  0.001969  0.036965  2.510828e+07            242   \n",
       "300012.SZ  300012.SZ  0.001625  0.028842  2.107810e+07            242   \n",
       "600132.SS  600132.SS  0.001559  0.028038  3.242524e+06            242   \n",
       "600763.SS  600763.SS  0.001619  0.032272  4.122048e+06            242   \n",
       "601888.SS  601888.SS  0.001386  0.029371  1.113734e+07            242   \n",
       "300595.SZ  300595.SZ  0.001268  0.031358  3.464182e+06            242   \n",
       "600810.SS  600810.SS  0.001356  0.040257  2.443837e+07            242   \n",
       "600436.SS  600436.SS  0.001154  0.027695  5.524904e+06            242   \n",
       "600027.SS  600027.SS  0.000977  0.019595  2.696431e+07            242   \n",
       "300015.SZ  300015.SZ  0.001074  0.028590  1.795482e+07            242   \n",
       "300001.SZ  300001.SZ  0.000995  0.023746  5.388852e+06            242   \n",
       "300132.SZ  300132.SZ  0.001086  0.031851  8.536670e+06            242   \n",
       "300670.SZ  300670.SZ  0.001117  0.042251  9.303179e+06            242   \n",
       "600588.SS  600588.SS  0.001067  0.037131  3.811122e+07            242   \n",
       "002455.SZ  002455.SZ  0.001232  0.058895  3.086368e+06            242   \n",
       "002506.SZ  002506.SZ  0.000672  0.017306  1.933118e+07            242   \n",
       "\n",
       "                  sharp  \n",
       "300253.SZ  4.387544e-07  \n",
       "002493.SZ  3.927145e-07  \n",
       "300684.SZ  3.598880e-07  \n",
       "000860.SZ  2.739253e-07  \n",
       "300451.SZ  2.066502e-07  \n",
       "300012.SZ  1.488628e-07  \n",
       "600132.SS  1.352598e-07  \n",
       "600763.SS  1.315653e-07  \n",
       "601888.SS  9.056902e-08  \n",
       "300595.SZ  6.508686e-08  \n",
       "600810.SS  6.194716e-08  \n",
       "600436.SS  5.555039e-08  \n",
       "600027.SS  4.756549e-08  \n",
       "300015.SZ  4.332596e-08  \n",
       "300001.SZ  4.143435e-08  \n",
       "300132.SZ  4.022890e-08  \n",
       "300670.SZ  3.295032e-08  \n",
       "600588.SS  3.269013e-08  \n",
       "002455.SZ  3.174271e-08  \n",
       "002506.SZ  1.750110e-08  "
      ]
     },
     "execution_count": 408,
     "metadata": {},
     "output_type": "execute_result"
    }
   ],
   "source": [
    "stock_stat['sharp'] = (stock_stat.E)**2 / stock_stat.Sigma\n",
    "selected20 = stock_stat.sort_values(['sharp'], ascending=False).iloc[:20]\n",
    "selected20"
   ]
  },
  {
   "cell_type": "markdown",
   "metadata": {},
   "source": [
    "Получим вектор средних и выборчную матрицу ковариации выбранных акций"
   ]
  },
  {
   "cell_type": "code",
   "execution_count": 409,
   "metadata": {},
   "outputs": [
    {
     "data": {
      "text/plain": [
       "((242, 20), (20,), (20, 20))"
      ]
     },
     "execution_count": 409,
     "metadata": {},
     "output_type": "execute_result"
    }
   ],
   "source": [
    "return_matrix, mean_vec, cov_matrix = get_return_mean_cov(selected20) \n",
    "return_matrix.shape, mean_vec.shape, cov_matrix.shape"
   ]
  },
  {
   "cell_type": "markdown",
   "metadata": {},
   "source": [
    "Посмотрим на вектор собственных значений"
   ]
  },
  {
   "cell_type": "code",
   "execution_count": 410,
   "metadata": {},
   "outputs": [
    {
     "data": {
      "text/plain": [
       "array([0.0077, 0.0035, 0.0031, 0.002 , 0.0017, 0.0016, 0.0013, 0.0007,\n",
       "       0.0007, 0.0002, 0.0002, 0.0006, 0.0003, 0.0003, 0.0006, 0.0005,\n",
       "       0.0004, 0.0004, 0.0004, 0.0005])"
      ]
     },
     "execution_count": 410,
     "metadata": {},
     "output_type": "execute_result"
    }
   ],
   "source": [
    "np.around(np.linalg.eigvals(cov_matrix),4)"
   ]
  },
  {
   "cell_type": "markdown",
   "metadata": {},
   "source": [
    "Попытаемся выбрать активы с наибольшим минимальным собственным значением"
   ]
  },
  {
   "cell_type": "code",
   "execution_count": 427,
   "metadata": {},
   "outputs": [
    {
     "data": {
      "application/vnd.jupyter.widget-view+json": {
       "model_id": "cee1f707c06e47a089b68f568883374d",
       "version_major": 2,
       "version_minor": 0
      },
      "text/plain": [
       "HBox(children=(FloatProgress(value=0.0, max=10000.0), HTML(value='')))"
      ]
     },
     "metadata": {},
     "output_type": "display_data"
    },
    {
     "name": "stdout",
     "output_type": "stream",
     "text": [
      "\n"
     ]
    }
   ],
   "source": [
    "gen_lst = []\n",
    "for i in tqdm_notebook(range(10000)):\n",
    "    selected20 = stock_stat.sample(200).sort_values(['sharp'], ascending=False).iloc[:20]\n",
    "    return_matrix, mean_vec, cov_matrix = get_return_mean_cov(selected20) \n",
    "    min_eigen_val = np.min(np.linalg.eigvals(cov_matrix))\n",
    "    gen_lst.append((min_eigen_val, selected20))"
   ]
  },
  {
   "cell_type": "code",
   "execution_count": 492,
   "metadata": {},
   "outputs": [
    {
     "data": {
      "text/plain": [
       "array([0.0067, 0.0031, 0.0017, 0.0016, 0.0014, 0.0012, 0.001 , 0.0009,\n",
       "       0.0008, 0.0003, 0.0003, 0.0004, 0.0007, 0.0007, 0.0006, 0.0006,\n",
       "       0.0005, 0.0004, 0.0005, 0.0005])"
      ]
     },
     "execution_count": 492,
     "metadata": {},
     "output_type": "execute_result"
    }
   ],
   "source": [
    "gen_lst = sorted(gen_lst, key=lambda x: x[0], reverse=True)\n",
    "selected20 = gen_lst[0][1]\n",
    "return_matrix, mean_vec, cov_matrix = get_return_mean_cov(selected20) \n",
    "np.around(np.linalg.eigvals(cov_matrix),4)"
   ]
  },
  {
   "cell_type": "markdown",
   "metadata": {},
   "source": [
    "### 1. Истинный оптимальный портфель в модели Марковица с заданным отношением к риску. \n",
    "\n",
    "Задана константа b. Решите задачу оптимизации \n",
    "\n",
    "$$-E(x)+ b\\sigma(x) \\rightarrow min,$$   $$x_1+x_2+\\cdots+x_N =1$$ $$x_i \\ge 0$$\n",
    "    \n",
    "(т.е. найдите оптимальный портфель с отношением к риску, равным b). Найдите и зафиксируйте веса портфеля и значение целевой функции. \n",
    "\n",
    "Здесь $E(x)= E_1 x_1+E_2 x_2+\\cdots+E_N x_N$ , $ \\sigma (x)= \\sum \\sum σ_{ij} x_ix_j$\n"
   ]
  },
  {
   "attachments": {},
   "cell_type": "markdown",
   "metadata": {},
   "source": [
    "**Примечание 1.**\n",
    "\n",
    "Константа b подобрана таким образом, что истинный оптимальный CVaR портфель совпадает с истинным оптимальным портфелем п.1. Значение константы смотри в упражнениях к теме"
   ]
  },
  {
   "cell_type": "markdown",
   "metadata": {},
   "source": [
    "$$b= \\frac{1}{\\sqrt{2\\pi}}\\frac{1}{\\sqrt{1-\\beta}}exp(-\\frac{(\\Phi^{-1}(\\beta))^2)}{2})$$"
   ]
  },
  {
   "cell_type": "code",
   "execution_count": 471,
   "metadata": {},
   "outputs": [],
   "source": [
    "def risk_portfolio(X, cov_matrix):\n",
    "    return np.sqrt(np.dot(np.dot(X, cov_matrix), X.T))\n",
    "    \n",
    "def objective_function(X, returns, mean_vec, cov_matrix, b):\n",
    "    return (-np.dot(mean_vec, X)) + b * np.dot(np.dot(X, cov_matrix), X.T)\n",
    "    \n",
    "def optimize_portfolio(returns, \n",
    "                       mean_vec,\n",
    "                       cov_matrix, \n",
    "                       b, \n",
    "                       bounds, \n",
    "                       objective_function=objective_function):\n",
    "    N = cov_matrix.shape[0]\n",
    "    X = np.ones(N)\n",
    "    X = X / X.sum()\n",
    "    bounds = bounds * N\n",
    "    \n",
    "    constraints=[]\n",
    "    constraints.append({'type': 'eq', \n",
    "                        'fun': lambda X: np.sum(X) - 1.0})\n",
    "    \n",
    "    return minimize(objective_function, X,\n",
    "                    args=(returns, mean_vec, cov_matrix, b), method='SLSQP',\n",
    "                    constraints=constraints,\n",
    "                    bounds=bounds).x"
   ]
  },
  {
   "cell_type": "code",
   "execution_count": 486,
   "metadata": {},
   "outputs": [],
   "source": [
    "from scipy.optimize import minimize\n",
    "\n",
    "b = 6\n",
    "X = optimize_portfolio(return_matrix, mean_vec, cov_matrix, b, bounds=((0, 1),))"
   ]
  },
  {
   "cell_type": "code",
   "execution_count": 487,
   "metadata": {},
   "outputs": [
    {
     "data": {
      "image/png": "[encoded data removed]",
      "text/plain": [
       "<Figure size 432x144 with 1 Axes>"
      ]
     },
     "metadata": {},
     "output_type": "display_data"
    }
   ],
   "source": [
    "def plot_weights_histogram(weights, data):\n",
    "    plt.figure(figsize=(6,2))\n",
    "    try:\n",
    "        x_values = data['symbol'].values\n",
    "    except:\n",
    "        x_values = data['names'].values\n",
    "    x = np.arange(len(weights))\n",
    "    plt.xlabel('Акция')\n",
    "    plt.ylabel('Вес')\n",
    "    height = weights\n",
    "    plt.bar(x, height=height)\n",
    "    plt.xticks(x, x_values, rotation='50')\n",
    "    plt.grid()\n",
    "    \n",
    "plot_weights_histogram(X, selected20)"
   ]
  },
  {
   "cell_type": "code",
   "execution_count": 488,
   "metadata": {},
   "outputs": [
    {
     "data": {
      "image/png": "[encoded data removed]",
      "text/plain": [
       "<Figure size 864x432 with 1 Axes>"
      ]
     },
     "metadata": {},
     "output_type": "display_data"
    }
   ],
   "source": [
    "plot_mean_var_map(selected20, title='Карта активов')\n",
    "\n",
    "\n",
    "\n",
    "plt.scatter(risk_portfolio(X, cov_matrix),\n",
    "            np.dot(mean_vec,X), \n",
    "            c='yellow',\n",
    "            marker='*',\n",
    "            s=300, \n",
    "            edgecolors='black',\n",
    "            label='Оптимальный портфель b = %.2f' % b)\n",
    "plt.legend()\n",
    "pass"
   ]
  },
  {
   "cell_type": "markdown",
   "metadata": {},
   "source": [
    "### 2. Оценка неопределенности оптимального портфеля в модели Марковица с заданным отношением к риску. "
   ]
  },
  {
   "cell_type": "markdown",
   "metadata": {},
   "source": [
    "**2.1. Задайте число наблюдений T=30.**\n",
    "\n",
    "С помощью генератора многомерного нормального распределения создайте выборку размера Т из нормального распределения с вектором математических ожиданий  E=(E1, E2, …, EN) и матрицей ковариаций (σi,j)."
   ]
  },
  {
   "cell_type": "code",
   "execution_count": null,
   "metadata": {},
   "outputs": [],
   "source": []
  },
  {
   "cell_type": "markdown",
   "metadata": {},
   "source": [
    "**2.2. По построенной выборке сделайте оценку Eest вектора математических ожиданий и оценку (σesti,j) матрицы ковариаций.**\n"
   ]
  },
  {
   "cell_type": "code",
   "execution_count": null,
   "metadata": {},
   "outputs": [],
   "source": []
  },
  {
   "cell_type": "markdown",
   "metadata": {},
   "source": [
    "**2.3 Используя эти оценки решите задачу оптимизации**\n",
    "\n",
    "-Eest(x)+ b σest(x) -> min,  x1+x2+…+xN =1,  xi≥0\n",
    "\n",
    "Здесь Eest(x)= Eest1 x1+ Eest2 x2+…+ EestN xN , [σest(x)]2 =∑∑ σest i,j xixj\n",
    "(т.е. найдите выборочный оптимальный портфель с отношением к риску, равным b). Найдите и зафиксируйте веса портфеля и значение целевой функции."
   ]
  },
  {
   "cell_type": "code",
   "execution_count": null,
   "metadata": {},
   "outputs": [],
   "source": []
  },
  {
   "cell_type": "markdown",
   "metadata": {},
   "source": [
    "**2.4 Сравните два портфеля: истинный (п.1) и выборочный (п.2.3).**\n",
    "\n",
    "Оцените относительную ошибку в определении весов портфеля в норме Manhattan (L1 норма Минковского). Сделайте выводы. Сделайте сравнение в системе координат (σ, E)."
   ]
  },
  {
   "cell_type": "code",
   "execution_count": null,
   "metadata": {},
   "outputs": [],
   "source": []
  },
  {
   "cell_type": "markdown",
   "metadata": {},
   "source": [
    "**2.5. Повторите эксперимент S=40 раз и оцените среднюю относительную ошибку по S повторениям эксперимента.**\n",
    "\n",
    "Сделайте выводы.  \n",
    "\n",
    "Сделайте сравнение в системе координат (σ, E). "
   ]
  },
  {
   "cell_type": "markdown",
   "metadata": {},
   "source": []
  },
  {
   "cell_type": "markdown",
   "metadata": {},
   "source": [
    "**2.6  Предположите, что нам известны точные значения математических ожиданий E=(E1, E2, …, EN).**\n",
    "\n",
    "Повторите пп. 2.2-2.5. используя оценку только матрицы ковариаций (т.е. решайте задачу оптимизации \n",
    "\n",
    "-E(x)+ b σest(x) -> min,  x1+x2+…+xN =1,  xi≥0\n",
    "\n",
    "Здесь E(x)= E1 x1+E2 x2+…+EN xN , [σest(x)]2 =∑∑ σest i,j xixj \n",
    "\n",
    "Сравните точность этих портфелей и портфелей п.2.3"
   ]
  },
  {
   "cell_type": "code",
   "execution_count": null,
   "metadata": {},
   "outputs": [],
   "source": []
  }
 ],
 "metadata": {
  "kernelspec": {
   "display_name": "Python 3",
   "language": "python",
   "name": "python3"
  },
  "language_info": {
   "codemirror_mode": {
    "name": "ipython",
    "version": 3
   },
   "file_extension": ".py",
   "mimetype": "text/x-python",
   "name": "python",
   "nbconvert_exporter": "python",
   "pygments_lexer": "ipython3",
   "version": "3.7.7"
  }
 },
 "nbformat": 4,
 "nbformat_minor": 4
}
