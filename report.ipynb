{
 "cells": [
  {
   "cell_type": "markdown",
   "metadata": {},
   "source": [
    "# Лабораторная работа №3\n",
    "рынок: **Китай** <br>\n",
    "период: **2018 год**\n",
    "\n",
    "Седунов Илья, <br>\n",
    "Альперович Вадим, <br>\n",
    "Славутин Александр, <br>\n",
    "17ПМИ."
   ]
  },
  {
   "cell_type": "code",
   "execution_count": 1,
   "metadata": {},
   "outputs": [],
   "source": [
    "import random\n",
    "import numpy as np\n",
    "import pandas as pd\n",
    "import yfinance as yf\n",
    "import matplotlib.pyplot as plt\n",
    "from tqdm import tqdm_notebook\n",
    "import warnings\n",
    "import seaborn as sns\n",
    "from seaborn import set_style\n",
    "set_style('dark')\n",
    "warnings.simplefilter('ignore')"
   ]
  },
  {
   "cell_type": "markdown",
   "metadata": {},
   "source": [
    "### Подготовка модели.\n",
    "\n",
    "- Выберите на рынке 20 активов (N=20).\n",
    "\n",
    "- По наблюдениям за 2018 год оцените математические ожидания доходностей и матрицу ковариаций доходностей (используйте выборочную матрицу ковариаций). \n",
    "\n",
    "- Найденные вектор средних и матрица ковариаций будут далее использованы в экспериментах как «истинные» вектор E=(E1, E2, …, EN) и матрица ковариаций (σi,j).\n",
    "\n",
    "- Убедитесь, что матрица ковариаций невырожденная (если она близка к вырожденной, то измените состав активов). \n"
   ]
  },
  {
   "cell_type": "code",
   "execution_count": 2,
   "metadata": {},
   "outputs": [
    {
     "name": "stdout",
     "output_type": "stream",
     "text": [
      "Количество китайских тикеров = 1000\n"
     ]
    }
   ],
   "source": [
    "# Сбор случайных 250 активов Китайского рынка за 2018 год\n",
    "\n",
    "# random.seed(100)\n",
    "\n",
    "df = pd.read_excel('data/china_stocks.xlsx').drop_duplicates(['Symbol'])\n",
    "symbols = list(df['Symbol'])\n",
    "symbols = random.choices(symbols, k=1000)\n",
    "print('Количество китайских тикеров =', len(symbols))"
   ]
  },
  {
   "cell_type": "code",
   "execution_count": 3,
   "metadata": {
    "scrolled": true
   },
   "outputs": [
    {
     "name": "stdout",
     "output_type": "stream",
     "text": [
      "Акции собраны!\n"
     ]
    }
   ],
   "source": [
    "from IPython.display import clear_output\n",
    "start = \"2018-01-01\"\n",
    "end   = \"2018-12-31\"\n",
    "stocks = {}\n",
    "\n",
    "for symbol in tqdm_notebook(symbols):\n",
    "    stock = yf.download(symbol, start=start, end=end, progress=False)\n",
    "    if stock[~np.isnan(stock['Close'])].shape[0] < 220:\n",
    "        print('Drop because of nan values', symbol)\n",
    "        continue\n",
    "    stock['return'] = stock['Close'] / stock['Close'].shift(1)\n",
    "    stock['log_return'] = np.log(stock['return'])\n",
    "    stocks[symbol] = stock\n",
    "clear_output()\n",
    "print('Акции собраны!')\n",
    "\n",
    "# удаление пустых записей\n",
    "\n",
    "for symbol in symbols:\n",
    "    try:\n",
    "        stocks[symbol] = stocks[symbol].dropna()\n",
    "    except:\n",
    "        continue"
   ]
  },
  {
   "cell_type": "code",
   "execution_count": 4,
   "metadata": {},
   "outputs": [
    {
     "data": {
      "application/vnd.jupyter.widget-view+json": {
       "model_id": "f0f9c233677b43528e281c7d03ae769b",
       "version_major": 2,
       "version_minor": 0
      },
      "text/plain": [
       "HBox(children=(FloatProgress(value=0.0, max=1000.0), HTML(value='')))"
      ]
     },
     "metadata": {},
     "output_type": "display_data"
    },
    {
     "name": "stdout",
     "output_type": "stream",
     "text": [
      "\n",
      "Осталось активов после обработки 774\n"
     ]
    }
   ],
   "source": [
    "# сбор общей статистики\n",
    "\n",
    "stock_stat = pd.DataFrame(columns=['symbol',  'E', 'Sigma', 'mean_vol', 'n_observations'])\n",
    "for symbol in tqdm_notebook(symbols):\n",
    "    try:\n",
    "        stock = stocks[symbol].dropna()\n",
    "        stock_stat.loc[symbol] = [symbol,\n",
    "                                  stock['log_return'].mean(),\n",
    "                                  stock['log_return'].std(), \n",
    "                                  stock['Volume'].mean(), \n",
    "                                  len(stock)]\n",
    "    except:\n",
    "        continue\n",
    "stock_stat.dropna(inplace=True)\n",
    "print('Осталось активов после обработки', len(stock_stat))"
   ]
  },
  {
   "cell_type": "code",
   "execution_count": 5,
   "metadata": {},
   "outputs": [],
   "source": [
    "def get_return_mean_cov(df, sse_components=False): \n",
    "    # получить по выбранным активам матрицу их доходностей, \n",
    "    # вектор средних доходностей и матрицу ковариации\n",
    "    \n",
    "    r_matrix = {}\n",
    "    if sse_components:\n",
    "        for i in range(len(df)):\n",
    "            symbol = df.index[i]\n",
    "            r_matrix[symbol] = sse_stocks[symbol]['log_return']\n",
    "    else:\n",
    "        for symbol in df['symbol']:\n",
    "            r_matrix[symbol] = stocks[symbol]['log_return'] \n",
    "    r_df = pd.DataFrame(r_matrix).dropna()\n",
    "    return r_df.values, r_df.mean().values, r_df.cov().values\n",
    "\n",
    "def plot_mean_var_map(df,x='Sigma', y='E', title='Карта активов:σ от E', figsize=(12, 6)):\n",
    "    # получить карту риск от дохоности\n",
    "    \n",
    "    ax = df.plot(x=x, y=y, s=np.log(df['mean_vol']**3), \n",
    "                          kind='scatter', \n",
    "                          figsize=figsize, \n",
    "                          edgecolor='black',\n",
    "                          grid=True)\n",
    "    plt.xlabel('Sigma', size=15)\n",
    "    plt.ylabel('E', size=15)\n",
    "    plt.title(title, size=16)"
   ]
  },
  {
   "cell_type": "markdown",
   "metadata": {},
   "source": [
    "Выберем 20 активов с наибольшей платой за риск"
   ]
  },
  {
   "cell_type": "code",
   "execution_count": 6,
   "metadata": {},
   "outputs": [
    {
     "data": {
      "text/html": [
       "<div>\n",
       "<style scoped>\n",
       "    .dataframe tbody tr th:only-of-type {\n",
       "        vertical-align: middle;\n",
       "    }\n",
       "\n",
       "    .dataframe tbody tr th {\n",
       "        vertical-align: top;\n",
       "    }\n",
       "\n",
       "    .dataframe thead th {\n",
       "        text-align: right;\n",
       "    }\n",
       "</style>\n",
       "<table border=\"1\" class=\"dataframe\">\n",
       "  <thead>\n",
       "    <tr style=\"text-align: right;\">\n",
       "      <th></th>\n",
       "      <th>symbol</th>\n",
       "      <th>E</th>\n",
       "      <th>Sigma</th>\n",
       "      <th>mean_vol</th>\n",
       "      <th>n_observations</th>\n",
       "      <th>sharp</th>\n",
       "    </tr>\n",
       "  </thead>\n",
       "  <tbody>\n",
       "    <tr>\n",
       "      <th>300266.SZ</th>\n",
       "      <td>300266.SZ</td>\n",
       "      <td>-0.006689</td>\n",
       "      <td>0.034849</td>\n",
       "      <td>3.210197e+07</td>\n",
       "      <td>242</td>\n",
       "      <td>0.001284</td>\n",
       "    </tr>\n",
       "    <tr>\n",
       "      <th>600715.SS</th>\n",
       "      <td>600715.SS</td>\n",
       "      <td>-0.006645</td>\n",
       "      <td>0.035601</td>\n",
       "      <td>1.007010e+07</td>\n",
       "      <td>242</td>\n",
       "      <td>0.001240</td>\n",
       "    </tr>\n",
       "    <tr>\n",
       "      <th>002517.SZ</th>\n",
       "      <td>002517.SZ</td>\n",
       "      <td>-0.005686</td>\n",
       "      <td>0.030984</td>\n",
       "      <td>2.892881e+07</td>\n",
       "      <td>242</td>\n",
       "      <td>0.001043</td>\n",
       "    </tr>\n",
       "    <tr>\n",
       "      <th>002512.SZ</th>\n",
       "      <td>002512.SZ</td>\n",
       "      <td>-0.005061</td>\n",
       "      <td>0.025443</td>\n",
       "      <td>1.030791e+07</td>\n",
       "      <td>242</td>\n",
       "      <td>0.001007</td>\n",
       "    </tr>\n",
       "    <tr>\n",
       "      <th>300415.SZ</th>\n",
       "      <td>300415.SZ</td>\n",
       "      <td>-0.004457</td>\n",
       "      <td>0.026538</td>\n",
       "      <td>3.406898e+06</td>\n",
       "      <td>242</td>\n",
       "      <td>0.000749</td>\n",
       "    </tr>\n",
       "    <tr>\n",
       "      <th>300225.SZ</th>\n",
       "      <td>300225.SZ</td>\n",
       "      <td>-0.005419</td>\n",
       "      <td>0.039249</td>\n",
       "      <td>1.867272e+07</td>\n",
       "      <td>242</td>\n",
       "      <td>0.000748</td>\n",
       "    </tr>\n",
       "    <tr>\n",
       "      <th>000982.SZ</th>\n",
       "      <td>000982.SZ</td>\n",
       "      <td>-0.004396</td>\n",
       "      <td>0.026067</td>\n",
       "      <td>1.094232e+07</td>\n",
       "      <td>242</td>\n",
       "      <td>0.000741</td>\n",
       "    </tr>\n",
       "    <tr>\n",
       "      <th>002219.SZ</th>\n",
       "      <td>002219.SZ</td>\n",
       "      <td>-0.005062</td>\n",
       "      <td>0.034758</td>\n",
       "      <td>1.954369e+07</td>\n",
       "      <td>242</td>\n",
       "      <td>0.000737</td>\n",
       "    </tr>\n",
       "    <tr>\n",
       "      <th>600595.SS</th>\n",
       "      <td>600595.SS</td>\n",
       "      <td>-0.004245</td>\n",
       "      <td>0.025032</td>\n",
       "      <td>1.195527e+07</td>\n",
       "      <td>242</td>\n",
       "      <td>0.000720</td>\n",
       "    </tr>\n",
       "    <tr>\n",
       "      <th>300129.SZ</th>\n",
       "      <td>300129.SZ</td>\n",
       "      <td>-0.004193</td>\n",
       "      <td>0.024447</td>\n",
       "      <td>5.484652e+06</td>\n",
       "      <td>242</td>\n",
       "      <td>0.000719</td>\n",
       "    </tr>\n",
       "    <tr>\n",
       "      <th>002496.SZ</th>\n",
       "      <td>002496.SZ</td>\n",
       "      <td>-0.004416</td>\n",
       "      <td>0.028997</td>\n",
       "      <td>1.818392e+07</td>\n",
       "      <td>242</td>\n",
       "      <td>0.000672</td>\n",
       "    </tr>\n",
       "    <tr>\n",
       "      <th>603111.SS</th>\n",
       "      <td>603111.SS</td>\n",
       "      <td>-0.005309</td>\n",
       "      <td>0.042106</td>\n",
       "      <td>9.000893e+06</td>\n",
       "      <td>242</td>\n",
       "      <td>0.000669</td>\n",
       "    </tr>\n",
       "    <tr>\n",
       "      <th>002581.SZ</th>\n",
       "      <td>002581.SZ</td>\n",
       "      <td>-0.004555</td>\n",
       "      <td>0.032881</td>\n",
       "      <td>4.308159e+06</td>\n",
       "      <td>242</td>\n",
       "      <td>0.000631</td>\n",
       "    </tr>\n",
       "    <tr>\n",
       "      <th>300221.SZ</th>\n",
       "      <td>300221.SZ</td>\n",
       "      <td>-0.004486</td>\n",
       "      <td>0.033625</td>\n",
       "      <td>8.313102e+06</td>\n",
       "      <td>242</td>\n",
       "      <td>0.000598</td>\n",
       "    </tr>\n",
       "    <tr>\n",
       "      <th>600654.SS</th>\n",
       "      <td>600654.SS</td>\n",
       "      <td>-0.004066</td>\n",
       "      <td>0.027780</td>\n",
       "      <td>1.124603e+07</td>\n",
       "      <td>242</td>\n",
       "      <td>0.000595</td>\n",
       "    </tr>\n",
       "    <tr>\n",
       "      <th>002252.SZ</th>\n",
       "      <td>002252.SZ</td>\n",
       "      <td>-0.003729</td>\n",
       "      <td>0.023759</td>\n",
       "      <td>6.302927e+06</td>\n",
       "      <td>242</td>\n",
       "      <td>0.000585</td>\n",
       "    </tr>\n",
       "    <tr>\n",
       "      <th>002308.SZ</th>\n",
       "      <td>002308.SZ</td>\n",
       "      <td>-0.004144</td>\n",
       "      <td>0.029423</td>\n",
       "      <td>1.227922e+07</td>\n",
       "      <td>242</td>\n",
       "      <td>0.000584</td>\n",
       "    </tr>\n",
       "    <tr>\n",
       "      <th>000506.SZ</th>\n",
       "      <td>000506.SZ</td>\n",
       "      <td>-0.004176</td>\n",
       "      <td>0.030114</td>\n",
       "      <td>1.728487e+07</td>\n",
       "      <td>242</td>\n",
       "      <td>0.000579</td>\n",
       "    </tr>\n",
       "    <tr>\n",
       "      <th>300202.SZ</th>\n",
       "      <td>300202.SZ</td>\n",
       "      <td>-0.004250</td>\n",
       "      <td>0.031185</td>\n",
       "      <td>6.241307e+06</td>\n",
       "      <td>242</td>\n",
       "      <td>0.000579</td>\n",
       "    </tr>\n",
       "    <tr>\n",
       "      <th>601633.SS</th>\n",
       "      <td>601633.SS</td>\n",
       "      <td>-0.003235</td>\n",
       "      <td>0.018473</td>\n",
       "      <td>1.032190e+07</td>\n",
       "      <td>242</td>\n",
       "      <td>0.000566</td>\n",
       "    </tr>\n",
       "  </tbody>\n",
       "</table>\n",
       "</div>"
      ],
      "text/plain": [
       "              symbol         E     Sigma      mean_vol n_observations  \\\n",
       "300266.SZ  300266.SZ -0.006689  0.034849  3.210197e+07            242   \n",
       "600715.SS  600715.SS -0.006645  0.035601  1.007010e+07            242   \n",
       "002517.SZ  002517.SZ -0.005686  0.030984  2.892881e+07            242   \n",
       "002512.SZ  002512.SZ -0.005061  0.025443  1.030791e+07            242   \n",
       "300415.SZ  300415.SZ -0.004457  0.026538  3.406898e+06            242   \n",
       "300225.SZ  300225.SZ -0.005419  0.039249  1.867272e+07            242   \n",
       "000982.SZ  000982.SZ -0.004396  0.026067  1.094232e+07            242   \n",
       "002219.SZ  002219.SZ -0.005062  0.034758  1.954369e+07            242   \n",
       "600595.SS  600595.SS -0.004245  0.025032  1.195527e+07            242   \n",
       "300129.SZ  300129.SZ -0.004193  0.024447  5.484652e+06            242   \n",
       "002496.SZ  002496.SZ -0.004416  0.028997  1.818392e+07            242   \n",
       "603111.SS  603111.SS -0.005309  0.042106  9.000893e+06            242   \n",
       "002581.SZ  002581.SZ -0.004555  0.032881  4.308159e+06            242   \n",
       "300221.SZ  300221.SZ -0.004486  0.033625  8.313102e+06            242   \n",
       "600654.SS  600654.SS -0.004066  0.027780  1.124603e+07            242   \n",
       "002252.SZ  002252.SZ -0.003729  0.023759  6.302927e+06            242   \n",
       "002308.SZ  002308.SZ -0.004144  0.029423  1.227922e+07            242   \n",
       "000506.SZ  000506.SZ -0.004176  0.030114  1.728487e+07            242   \n",
       "300202.SZ  300202.SZ -0.004250  0.031185  6.241307e+06            242   \n",
       "601633.SS  601633.SS -0.003235  0.018473  1.032190e+07            242   \n",
       "\n",
       "              sharp  \n",
       "300266.SZ  0.001284  \n",
       "600715.SS  0.001240  \n",
       "002517.SZ  0.001043  \n",
       "002512.SZ  0.001007  \n",
       "300415.SZ  0.000749  \n",
       "300225.SZ  0.000748  \n",
       "000982.SZ  0.000741  \n",
       "002219.SZ  0.000737  \n",
       "600595.SS  0.000720  \n",
       "300129.SZ  0.000719  \n",
       "002496.SZ  0.000672  \n",
       "603111.SS  0.000669  \n",
       "002581.SZ  0.000631  \n",
       "300221.SZ  0.000598  \n",
       "600654.SS  0.000595  \n",
       "002252.SZ  0.000585  \n",
       "002308.SZ  0.000584  \n",
       "000506.SZ  0.000579  \n",
       "300202.SZ  0.000579  \n",
       "601633.SS  0.000566  "
      ]
     },
     "execution_count": 6,
     "metadata": {},
     "output_type": "execute_result"
    }
   ],
   "source": [
    "stock_stat['sharp'] = (stock_stat.E)**2 / stock_stat.Sigma\n",
    "selected20 = stock_stat.sort_values(['sharp'], ascending=False).iloc[:20]\n",
    "selected20"
   ]
  },
  {
   "cell_type": "markdown",
   "metadata": {},
   "source": [
    "Получим вектор средних и выборчную матрицу ковариации выбранных акций"
   ]
  },
  {
   "cell_type": "code",
   "execution_count": 7,
   "metadata": {},
   "outputs": [
    {
     "data": {
      "text/plain": [
       "((242, 20), (20,), (20, 20))"
      ]
     },
     "execution_count": 7,
     "metadata": {},
     "output_type": "execute_result"
    }
   ],
   "source": [
    "return_matrix, mean_vec, cov_matrix = get_return_mean_cov(selected20) \n",
    "return_matrix.shape, mean_vec.shape, cov_matrix.shape"
   ]
  },
  {
   "cell_type": "markdown",
   "metadata": {},
   "source": [
    "Посмотрим на вектор собственных значений"
   ]
  },
  {
   "cell_type": "code",
   "execution_count": 8,
   "metadata": {},
   "outputs": [
    {
     "data": {
      "text/plain": [
       "array([0.0061, 0.0018, 0.0015, 0.0012, 0.001 , 0.0008, 0.0008, 0.0007,\n",
       "       0.0002, 0.0006, 0.0006, 0.0005, 0.0005, 0.0005, 0.0004, 0.0004,\n",
       "       0.0003, 0.0003, 0.0002, 0.0003])"
      ]
     },
     "execution_count": 8,
     "metadata": {},
     "output_type": "execute_result"
    }
   ],
   "source": [
    "np.around(np.linalg.eigvals(cov_matrix),4)"
   ]
  },
  {
   "cell_type": "markdown",
   "metadata": {},
   "source": [
    "Попытаемся выбрать активы с наибольшим минимальным собственным значением"
   ]
  },
  {
   "cell_type": "code",
   "execution_count": 64,
   "metadata": {},
   "outputs": [
    {
     "data": {
      "application/vnd.jupyter.widget-view+json": {
       "model_id": "285f223591f242fc9fd46c812fedad3b",
       "version_major": 2,
       "version_minor": 0
      },
      "text/plain": [
       "HBox(children=(FloatProgress(value=0.0, max=10000.0), HTML(value='')))"
      ]
     },
     "metadata": {},
     "output_type": "display_data"
    },
    {
     "name": "stdout",
     "output_type": "stream",
     "text": [
      "\n"
     ]
    }
   ],
   "source": [
    "gen_lst = []\n",
    "for i in tqdm_notebook(range(10000)):\n",
    "    selected20 = stock_stat.sample(200).sort_values(['sharp'], ascending=False).iloc[:20]\n",
    "    return_matrix, mean_vec, cov_matrix = get_return_mean_cov(selected20) \n",
    "    min_eigen_val = np.min(np.linalg.eigvals(cov_matrix))\n",
    "    gen_lst.append((min_eigen_val, selected20))"
   ]
  },
  {
   "cell_type": "code",
   "execution_count": 65,
   "metadata": {},
   "outputs": [
    {
     "data": {
      "text/plain": [
       "array([0.0055, 0.0017, 0.0013, 0.001 , 0.001 , 0.0008, 0.0008, 0.0007,\n",
       "       0.0003, 0.0006, 0.0006, 0.0003, 0.0004, 0.0004, 0.0004, 0.0004,\n",
       "       0.0004, 0.0005, 0.0005, 0.0005])"
      ]
     },
     "execution_count": 65,
     "metadata": {},
     "output_type": "execute_result"
    }
   ],
   "source": [
    "gen_lst = sorted(gen_lst, key=lambda x: x[0], reverse=True)\n",
    "selected20 = gen_lst[0][1]\n",
    "return_matrix, mean_vec, cov_matrix = get_return_mean_cov(selected20) \n",
    "np.around(np.linalg.eigvals(cov_matrix),4)"
   ]
  },
  {
   "cell_type": "markdown",
   "metadata": {},
   "source": [
    "### 1. Истинный оптимальный портфель в модели Марковица с заданным отношением к риску. \n",
    "\n",
    "Задана константа b. Решите задачу оптимизации \n",
    "\n",
    "$$-E(x)+ b\\sigma(x) \\rightarrow min,$$   $$x_1+x_2+\\cdots+x_N =1$$ $$x_i \\ge 0$$\n",
    "    \n",
    "(т.е. найдите оптимальный портфель с отношением к риску, равным b). Найдите и зафиксируйте веса портфеля и значение целевой функции. \n",
    "\n",
    "Здесь $E(x)= E_1 x_1+E_2 x_2+\\cdots+E_N x_N$ , $ \\sigma (x)= \\sum \\sum σ_{ij} x_ix_j$\n"
   ]
  },
  {
   "cell_type": "markdown",
   "metadata": {},
   "source": [
    "**Примечание 1.**\n",
    "\n",
    "Константа b подобрана таким образом, что истинный оптимальный CVaR портфель совпадает с истинным оптимальным портфелем п.1. Значение константы смотри в упражнениях к теме"
   ]
  },
  {
   "cell_type": "markdown",
   "metadata": {},
   "source": [
    "$$b= \\frac{1}{\\sqrt{2\\pi}}\\frac{1}{\\sqrt{1-\\beta}}exp(-\\frac{(\\Phi^{-1}(\\beta))^2)}{2})$$"
   ]
  },
  {
   "cell_type": "code",
   "execution_count": 291,
   "metadata": {},
   "outputs": [],
   "source": [
    "from cvxopt import matrix, solvers\n",
    "from scipy.optimize import minimize\n",
    "\n",
    "\n",
    "def risk_portfolio(X, cov_matrix):\n",
    "    return np.sqrt(np.dot(np.dot(X, cov_matrix), X.T))\n",
    "    \n",
    "    \n",
    "def objective_function(X, mean_vec, cov_matrix, b):\n",
    "    return (-np.dot(mean_vec, X)) + b * np.dot(np.dot(X, cov_matrix), X.T)\n",
    "    \n",
    "    \n",
    "def optimize_portfolio(mean_vec,\n",
    "                       cov_matrix, \n",
    "                       b, \n",
    "                       bounds, \n",
    "                       objective_function=objective_function,\n",
    "                       cvxopt=False):\n",
    "    if cvxopt:\n",
    "        r_avg = matrix(mean_vec)\n",
    "        sigma = matrix(b*cov_matrix)\n",
    "        n = mean_vec.shape[0]\n",
    "        P = sigma\n",
    "        q = matrix(-mean_vec)\n",
    "        \n",
    "        # inequality constraint \n",
    "        G = matrix( -np.identity(n) )\n",
    "        h = matrix( np.zeros((n,1)) )  \n",
    "        \n",
    "        # equality constraint Ax = d; captures the constraint sum(x) == 1\n",
    "        A = matrix(1.0, (1,n))\n",
    "        d = matrix(1.0)\n",
    "        sol = solvers.qp(P, q, G, h, A, d, show_progress=False)\n",
    "        clear_output()\n",
    "        return np.array([x for x in sol['x']])\n",
    "    \n",
    "    else: # scipy.minimize\n",
    "        N = cov_matrix.shape[0]\n",
    "        X = np.ones(N)\n",
    "        X = X / X.sum()\n",
    "        bounds = bounds * N\n",
    "\n",
    "        constraints=[]\n",
    "        constraints.append({'type': 'eq', \n",
    "                            'fun': lambda X: np.sum(X) - 1.0})\n",
    "\n",
    "        return minimize(objective_function, X,\n",
    "                        args=(mean_vec, cov_matrix, b), method='SLSQP',\n",
    "                        constraints=constraints,\n",
    "                        bounds=bounds).x"
   ]
  },
  {
   "cell_type": "code",
   "execution_count": 292,
   "metadata": {},
   "outputs": [],
   "source": [
    "b = 5\n",
    "\n",
    "X = optimize_portfolio(mean_vec, cov_matrix, b, bounds=((0, 1),))"
   ]
  },
  {
   "cell_type": "code",
   "execution_count": 293,
   "metadata": {},
   "outputs": [
    {
     "data": {
      "image/png": "[encoded data removed]",
      "text/plain": [
       "<Figure size 432x144 with 1 Axes>"
      ]
     },
     "metadata": {},
     "output_type": "display_data"
    }
   ],
   "source": [
    "def plot_weights_histogram(weights, data):\n",
    "    plt.figure(figsize=(6,2))\n",
    "    try:\n",
    "        x_values = data['symbol'].values\n",
    "    except:\n",
    "        x_values = data['names'].values\n",
    "    x = np.arange(len(weights))\n",
    "    plt.xlabel('Акция')\n",
    "    plt.ylabel('Вес')\n",
    "    height = weights\n",
    "    plt.bar(x, height=height)\n",
    "    plt.xticks(x, x_values, rotation='50')\n",
    "    plt.grid()\n",
    "    \n",
    "plot_weights_histogram(X, selected20)\n",
    "plt.title('Полученный веса портфеля')\n",
    "pass"
   ]
  },
  {
   "cell_type": "code",
   "execution_count": 294,
   "metadata": {},
   "outputs": [
    {
     "data": {
      "image/png": "[encoded data removed]",
      "text/plain": [
       "<Figure size 864x432 with 1 Axes>"
      ]
     },
     "metadata": {},
     "output_type": "display_data"
    }
   ],
   "source": [
    "plot_mean_var_map(selected20, title='Карта активов')\n",
    "plt.scatter(risk_portfolio(X, cov_matrix),\n",
    "            np.dot(mean_vec,X), \n",
    "            c='yellow',\n",
    "            marker='*',\n",
    "            s=300, \n",
    "            edgecolors='black',\n",
    "            label='Оптимальный портфель b = %.2f' % b)\n",
    "plt.legend()\n",
    "pass"
   ]
  },
  {
   "cell_type": "markdown",
   "metadata": {},
   "source": [
    "### 2. Оценка неопределенности оптимального портфеля в модели Марковица с заданным отношением к риску. "
   ]
  },
  {
   "cell_type": "markdown",
   "metadata": {},
   "source": [
    "**2.1. Задайте число наблюдений T=30.**\n",
    "\n",
    "С помощью генератора многомерного нормального распределения создайте выборку размера Т из нормального распределения с вектором математических ожиданий  E=(E1, E2, …, EN) и матрицей ковариаций (σi,j)."
   ]
  },
  {
   "cell_type": "code",
   "execution_count": 295,
   "metadata": {},
   "outputs": [
    {
     "data": {
      "text/plain": [
       "(30, 20)"
      ]
     },
     "execution_count": 295,
     "metadata": {},
     "output_type": "execute_result"
    }
   ],
   "source": [
    "T = 30 \n",
    "r_matrix_gen = np.random.multivariate_normal(mean_vec, cov_matrix, T)\n",
    "r_matrix_gen.shape"
   ]
  },
  {
   "cell_type": "markdown",
   "metadata": {},
   "source": [
    "**2.2. По построенной выборке сделайте оценку $E^{est}$ вектора математических ожиданий и оценку $ \\sigma ^{est}$ матрицы ковариаций.**\n"
   ]
  },
  {
   "cell_type": "code",
   "execution_count": 296,
   "metadata": {},
   "outputs": [
    {
     "data": {
      "text/plain": [
       "((20,), (20, 20))"
      ]
     },
     "execution_count": 296,
     "metadata": {},
     "output_type": "execute_result"
    }
   ],
   "source": [
    "mean_vec_est = np.mean(r_matrix_gen, axis=0)\n",
    "cov_matrix_est = np.cov(r_matrix_gen.T)\n",
    "mean_vec_est.shape, cov_matrix_est.shape"
   ]
  },
  {
   "cell_type": "code",
   "execution_count": 297,
   "metadata": {},
   "outputs": [
    {
     "name": "stdout",
     "output_type": "stream",
     "text": [
      "Истинный вектор средних:\n",
      "array([-0.007, -0.005, -0.006, -0.005, -0.004, -0.004, -0.005, -0.004,\n",
      "       -0.004, -0.004, -0.004, -0.004, -0.003, -0.004, -0.003, -0.004,\n",
      "       -0.003, -0.004, -0.004, -0.003])\n",
      "\n",
      "Оценки вектора средних:\n",
      "array([-0.012, -0.008, -0.007, -0.   , -0.006, -0.01 , -0.008, -0.006,\n",
      "       -0.009, -0.01 ,  0.003,  0.   , -0.006, -0.   , -0.008, -0.007,\n",
      "       -0.003, -0.003, -0.002, -0.002])\n"
     ]
    }
   ],
   "source": [
    "import pprint\n",
    "\n",
    "print('Истинный вектор средних:')\n",
    "pprint.pprint(np.around(mean_vec, 3))\n",
    "print()\n",
    "print('Оценки вектора средних:')\n",
    "pprint.pprint(np.around(mean_vec_est, 3))"
   ]
  },
  {
   "cell_type": "code",
   "execution_count": 298,
   "metadata": {},
   "outputs": [
    {
     "data": {
      "text/plain": [
       "array([-0.0122, -0.0077, -0.0068, -0.0003, -0.0064, -0.0103, -0.0079,\n",
       "       -0.0061, -0.0087, -0.0102,  0.003 ,  0.    , -0.0057, -0.0005,\n",
       "       -0.0076, -0.0072, -0.0035, -0.0031, -0.0023, -0.0023])"
      ]
     },
     "execution_count": 298,
     "metadata": {},
     "output_type": "execute_result"
    }
   ],
   "source": [
    "np.around(mean_vec_est,4)"
   ]
  },
  {
   "cell_type": "markdown",
   "metadata": {},
   "source": [
    "**2.3 Используя эти оценки решите задачу оптимизации**\n",
    "\n",
    "$$-E^{est}(x)+ b\\sigma^{est}(x) \\rightarrow min,$$   $$x_1+x_2+\\cdots+x_N =1$$ $$x_i \\ge 0$$\n",
    "\n",
    "Здесь $E^{est}(x)= E^{est}_1 x_1+E^{est}_2 x_2+\\cdots+E^{est}_N x_N$ , $ \\sigma^{est} (x)= \\sum \\sum σ^{est}_{ij} x_ix_j$\n",
    "\n",
    "(т.е. найдите выборочный оптимальный портфель с отношением к риску, равным b). Найдите и зафиксируйте веса портфеля и значение целевой функции."
   ]
  },
  {
   "cell_type": "code",
   "execution_count": 299,
   "metadata": {},
   "outputs": [],
   "source": [
    "X_est = optimize_portfolio(mean_vec_est, cov_matrix_est, b, bounds=((0, 1),))"
   ]
  },
  {
   "cell_type": "markdown",
   "metadata": {},
   "source": [
    "**2.4 Сравните два портфеля: истинный (п.1) и выборочный (п.2.3).**\n",
    "\n",
    "Оцените относительную ошибку в определении весов портфеля в норме Manhattan (L1 норма Минковского). Сделайте выводы. Сделайте сравнение в системе координат (σ, E)."
   ]
  },
  {
   "cell_type": "code",
   "execution_count": 300,
   "metadata": {},
   "outputs": [
    {
     "name": "stdout",
     "output_type": "stream",
     "text": [
      "Истинные веса портфеля:\n",
      "array([0.   , 0.001, 0.   , 0.   , 0.   , 0.   , 0.   , 0.   , 0.   ,\n",
      "       0.   , 0.079, 0.004, 0.279, 0.014, 0.298, 0.002, 0.214, 0.07 ,\n",
      "       0.   , 0.037])\n",
      "\n",
      "Оценки весов портфеля:\n",
      "array([0.   , 0.   , 0.   , 0.   , 0.   , 0.   , 0.   , 0.   , 0.   ,\n",
      "       0.   , 0.806, 0.132, 0.   , 0.062, 0.   , 0.   , 0.   , 0.   ,\n",
      "       0.   , 0.   ])\n"
     ]
    }
   ],
   "source": [
    "print('Истинные веса портфеля:')\n",
    "pprint.pprint(np.around(X, 3))\n",
    "print()\n",
    "print('Оценки весов портфеля:')\n",
    "pprint.pprint(np.around(X_est, 3))"
   ]
  },
  {
   "cell_type": "code",
   "execution_count": 301,
   "metadata": {},
   "outputs": [
    {
     "data": {
      "image/png": "[encoded data removed]",
      "text/plain": [
       "<Figure size 432x144 with 1 Axes>"
      ]
     },
     "metadata": {},
     "output_type": "display_data"
    },
    {
     "data": {
      "image/png": "[encoded data removed]",
      "text/plain": [
       "<Figure size 432x144 with 1 Axes>"
      ]
     },
     "metadata": {},
     "output_type": "display_data"
    }
   ],
   "source": [
    "plot_weights_histogram(X, selected20)\n",
    "plt.title('Истинные веса портфеля')\n",
    "plt.show()\n",
    "plot_weights_histogram(X_est, selected20)\n",
    "plt.title('Оценки полученных весов портфеля')\n",
    "pass"
   ]
  },
  {
   "cell_type": "code",
   "execution_count": 302,
   "metadata": {},
   "outputs": [
    {
     "name": "stdout",
     "output_type": "stream",
     "text": [
      "L1 норма вектора X - Xest: 1.806\n"
     ]
    }
   ],
   "source": [
    "print('L1 норма вектора X - Xest:', np.around(np.linalg.norm(X - X_est, ord=1), 3))"
   ]
  },
  {
   "cell_type": "code",
   "execution_count": 303,
   "metadata": {},
   "outputs": [
    {
     "data": {
      "image/png": "[encoded data removed]",
      "text/plain": [
       "<Figure size 864x432 with 1 Axes>"
      ]
     },
     "metadata": {},
     "output_type": "display_data"
    }
   ],
   "source": [
    "plot_mean_var_map(selected20, title='Карта активов')\n",
    "plt.scatter(risk_portfolio(X, cov_matrix),\n",
    "            np.dot(mean_vec,X), \n",
    "            c='yellow',\n",
    "            marker='*',\n",
    "            s=300, \n",
    "            edgecolors='black',\n",
    "            label='Оптимальный портфель b = %.2f' % b)\n",
    "plt.scatter(risk_portfolio(X_est, cov_matrix_est),\n",
    "            np.dot(mean_vec_est, X_est), \n",
    "            c='red',\n",
    "            marker='*',\n",
    "            s=300, \n",
    "            edgecolors='black',\n",
    "            label='Оценка оптимального портфеля b = %.2f' % b)\n",
    "plt.legend()\n",
    "pass"
   ]
  },
  {
   "cell_type": "markdown",
   "metadata": {},
   "source": [
    "**Вывод:**\n",
    "\n",
    "Исходя из значений весов портфеля и их оценок, L1-нормы этих векторов, а также сравнения портфелей по карте $E$ от $\\sigma$ можно сделать вывод, что разница существенна. Оценка оптимального портфеля с задданным параметром $b$ имеет завышенную доходность и риск."
   ]
  },
  {
   "cell_type": "markdown",
   "metadata": {},
   "source": [
    "**2.5. Повторите эксперимент S=40 раз и оцените среднюю относительную ошибку по S повторениям эксперимента.**\n",
    "\n",
    "Сделайте выводы.  \n",
    "\n",
    "Сделайте сравнение в системе координат (σ, E). "
   ]
  },
  {
   "cell_type": "code",
   "execution_count": 304,
   "metadata": {},
   "outputs": [
    {
     "data": {
      "application/vnd.jupyter.widget-view+json": {
       "model_id": "8b5e5815a6f14c9d905e80d0c280d05b",
       "version_major": 2,
       "version_minor": 0
      },
      "text/plain": [
       "HBox(children=(FloatProgress(value=0.0, max=40.0), HTML(value='')))"
      ]
     },
     "metadata": {},
     "output_type": "display_data"
    },
    {
     "name": "stdout",
     "output_type": "stream",
     "text": [
      "\n"
     ]
    }
   ],
   "source": [
    "S = 40 \n",
    "\n",
    "experiments = []\n",
    "\n",
    "for i in tqdm_notebook(range(S)):\n",
    "    experiment = {}\n",
    "    experiment['i'] = i\n",
    "    experiment['r_matrix_gen'] = np.random.multivariate_normal(mean_vec, cov_matrix, T)\n",
    "    experiment['mean_vec_est'] = np.mean(experiment['r_matrix_gen'], axis=0)\n",
    "    experiment['cov_matrix_est'] = np.cov(experiment['r_matrix_gen'].T)\n",
    "    experiment['X_est'] =  optimize_portfolio( experiment['mean_vec_est'], \n",
    "                                              experiment['cov_matrix_est'], \n",
    "                                              b, \n",
    "                                              bounds=((0, 1),))\n",
    "    experiment['L1-norm'] = np.linalg.norm(X - experiment['X_est'], ord=1)\n",
    "    experiments.append(experiment)"
   ]
  },
  {
   "cell_type": "code",
   "execution_count": 305,
   "metadata": {},
   "outputs": [
    {
     "name": "stdout",
     "output_type": "stream",
     "text": [
      "Средняя L1-норма по 40 экспериментам: 1.585\n",
      "Примерный 95 прц. доверительный интервал: [0.904, 2.267]\n"
     ]
    }
   ],
   "source": [
    "l1_norms = [experiment['L1-norm'] for experiment in experiments]\n",
    "l1_norms_mean  = np.mean(l1_norms)\n",
    "l1_norms_std  = np.std(l1_norms)\n",
    "print('Средняя L1-норма по %d экспериментам: %.3f' % (S, l1_norms_mean))\n",
    "print('Примерный 95 прц. доверительный интервал: [%.3f, %.3f]' %\n",
    "      (l1_norms_mean - 2*l1_norms_std, l1_norms_mean + 2*l1_norms_std))"
   ]
  },
  {
   "cell_type": "code",
   "execution_count": 313,
   "metadata": {},
   "outputs": [
    {
     "data": {
      "image/png": "[encoded data removed]",
      "text/plain": [
       "<Figure size 864x432 with 1 Axes>"
      ]
     },
     "metadata": {},
     "output_type": "display_data"
    }
   ],
   "source": [
    "plot_mean_var_map(selected20, title='Карта активов')\n",
    "\n",
    "for experiment in experiments:\n",
    "    plt.scatter(risk_portfolio(experiment['X_est'], experiment['cov_matrix_est']),\n",
    "                np.dot(experiment['mean_vec_est'], experiment['X_est']), \n",
    "                c='red',\n",
    "                marker='*',\n",
    "                s=300, \n",
    "                edgecolors='black')\n",
    "    \n",
    "plt.scatter(risk_portfolio(X, cov_matrix),\n",
    "            np.dot(mean_vec,X), \n",
    "            c='yellow',\n",
    "            marker='*',\n",
    "            s=300, \n",
    "            edgecolors='black',\n",
    "            label='Оптимальный портфель b = %.2f' % b)\n",
    "plt.legend()\n",
    "pass"
   ]
  },
  {
   "cell_type": "markdown",
   "metadata": {},
   "source": [
    "**Вывод:**\n",
    "\n",
    "Исходя из 40 проведенных экспериментов можно видеть, что в среднем оценки весов существенно далеки от истинных, однако некоторые портфели, построенные по данным оценкам, относительно близки к истинному на карте активов."
   ]
  },
  {
   "cell_type": "markdown",
   "metadata": {},
   "source": [
    "**2.6  Предположите, что нам известны точные значения математических ожиданий E=(E1, E2, …, EN).**\n",
    "\n",
    "Повторите пп. 2.2-2.5. используя оценку только матрицы ковариаций (т.е. решайте задачу оптимизации \n",
    "\n",
    "$$-E^{est}(x)+ b\\sigma^{est}(x) \\rightarrow min,$$   $$x_1+x_2+\\cdots+x_N =1$$ $$x_i \\ge 0$$\n",
    "\n",
    "Здесь $E^{est}(x)= E^{est}_1 x_1+E^{est}_2 x_2+\\cdots+E^{est}_N x_N$ , $ \\sigma^{est} (x)= \\sum \\sum σ^{est}_{ij} x_ix_j$\n",
    "\n",
    "\n",
    "Сравните точность этих портфелей и портфелей п.2.3"
   ]
  },
  {
   "cell_type": "code",
   "execution_count": 307,
   "metadata": {},
   "outputs": [
    {
     "data": {
      "application/vnd.jupyter.widget-view+json": {
       "model_id": "fa54919f54b64cfa919ad8be06a57c35",
       "version_major": 2,
       "version_minor": 0
      },
      "text/plain": [
       "HBox(children=(FloatProgress(value=0.0, max=40.0), HTML(value='')))"
      ]
     },
     "metadata": {},
     "output_type": "display_data"
    },
    {
     "name": "stdout",
     "output_type": "stream",
     "text": [
      "\n"
     ]
    }
   ],
   "source": [
    "experiments_with_true_mean = []\n",
    "\n",
    "for i in tqdm_notebook(range(S)):\n",
    "    experiment = {}\n",
    "    experiment['i'] = i\n",
    "    experiment['r_matrix_gen'] = np.random.multivariate_normal(mean_vec, cov_matrix, T)\n",
    "    experiment['mean_vec_est'] = np.mean(experiment['r_matrix_gen'], axis=0)\n",
    "    experiment['cov_matrix_est'] = np.cov(experiment['r_matrix_gen'].T)\n",
    "    experiment['X_est'] =  optimize_portfolio(mean_vec,                     # используем истинный вектор средних\n",
    "                                              experiment['cov_matrix_est'], \n",
    "                                              b, \n",
    "                                              bounds=((0, 1),))\n",
    "    experiment['L1-norm'] = np.linalg.norm(X - experiment['X_est'], ord=1)\n",
    "    experiments_with_true_mean.append(experiment)"
   ]
  },
  {
   "cell_type": "code",
   "execution_count": 308,
   "metadata": {},
   "outputs": [
    {
     "name": "stdout",
     "output_type": "stream",
     "text": [
      "Средняя L1-норма по 40 экспериментам: 0.463\n",
      "Примерный 95 прц. доверительный интервал: [0.159, 0.768]\n"
     ]
    }
   ],
   "source": [
    "l1_norms = [experiment['L1-norm'] for experiment in experiments_with_true_mean]\n",
    "l1_norms_mean  = np.mean(l1_norms)\n",
    "l1_norms_std  = np.std(l1_norms)\n",
    "print('Средняя L1-норма по %d экспериментам: %.3f' % (S, l1_norms_mean))\n",
    "print('Примерный 95 прц. доверительный интервал: [%.3f, %.3f]' %\n",
    "      (l1_norms_mean - 2*l1_norms_std, l1_norms_mean + 2*l1_norms_std))"
   ]
  },
  {
   "cell_type": "code",
   "execution_count": 312,
   "metadata": {},
   "outputs": [
    {
     "data": {
      "image/png": "[encoded data removed]",
      "text/plain": [
       "<Figure size 864x432 with 1 Axes>"
      ]
     },
     "metadata": {},
     "output_type": "display_data"
    }
   ],
   "source": [
    "plot_mean_var_map(selected20, title='Карта активов')\n",
    "\n",
    "for experiment in experiments_with_true_mean:\n",
    "    plt.scatter(risk_portfolio(experiment['X_est'], experiment['cov_matrix_est']),\n",
    "                np.dot(experiment['mean_vec_est'], experiment['X_est']), \n",
    "                c='red',\n",
    "                marker='*',\n",
    "                s=300, \n",
    "                edgecolors='black')\n",
    "plt.scatter(risk_portfolio(X, cov_matrix),\n",
    "            np.dot(mean_vec,X), \n",
    "            c='yellow',\n",
    "            marker='*',\n",
    "            s=300, \n",
    "            edgecolors='black',\n",
    "            label='Оптимальный портфель b = %.2f' % b)\n",
    "plt.legend()\n",
    "pass"
   ]
  },
  {
   "cell_type": "markdown",
   "metadata": {},
   "source": [
    "**Вывод:**\n",
    "\n",
    "Исходя из 40 проведенных экспериментов с истинным вектором средних можно видеть, что в  оценки весов существенно улучшились (судя по L1-норме примерно в 3 раза) и стали ближе к истинным, такой же вывод можно сделать и по по карте $E$ от $\\sigma$, где сгенерированные портфели стали располагаться существенно ближе к истинному портфелю не только по доходности, но и по риску."
   ]
  },
  {
   "cell_type": "markdown",
   "metadata": {},
   "source": [
    "### 3. Оценка неопределенности оптимального CVaR портфеля "
   ]
  },
  {
   "cell_type": "markdown",
   "metadata": {},
   "source": [
    "**3.1 Уровень значимости β выбран 0,95. Число наблюдений T.**\n",
    "\n",
    "Используя сгенерированные наблюдения из п.2.1 решите задачу ЛП для определения оптимального CVaRβ портфеля.  Найдите и зафиксируйте веса портфеля и значение целевой функции CVaR.  \n"
   ]
  },
  {
   "cell_type": "code",
   "execution_count": null,
   "metadata": {},
   "outputs": [],
   "source": []
  },
  {
   "cell_type": "markdown",
   "metadata": {},
   "source": [
    "**3.2 Сравните два портфеля: истинный (п.1) и найденный в п.3.1.**  \n",
    "    \n",
    "Оцените относительную ошибку в определении весов портфеля в норме Manhattan (L1 норма Минковского). Сравните с ошибкой портфеля из п. 2.3\n"
   ]
  },
  {
   "cell_type": "code",
   "execution_count": null,
   "metadata": {},
   "outputs": [],
   "source": []
  },
  {
   "cell_type": "markdown",
   "metadata": {},
   "source": [
    "**3.3. Повторите эксперимент S раз и оцените среднюю относительную ошибку по S повторениям эксперимента.** \n",
    "\n",
    "Сделайте выводы.  Сравните с ошибкой из п. 2.5 \n"
   ]
  },
  {
   "cell_type": "code",
   "execution_count": null,
   "metadata": {},
   "outputs": [],
   "source": []
  },
  {
   "cell_type": "code",
   "execution_count": null,
   "metadata": {},
   "outputs": [],
   "source": []
  },
  {
   "cell_type": "markdown",
   "metadata": {},
   "source": [
    "**Примечание 1.** \n",
    "\n",
    "Константа b подобрана таким образом, что истинный оптимальный CVaR портфель совпадает с истинным оптимальным портфелем п.1. Значение константы смотри в упражнениях к теме\n",
    "\n",
    "$$b= \\frac{1}{\\sqrt{2\\pi}}\\frac{1}{\\sqrt{1-\\beta}}exp(-\\frac{(\\Phi^{-1}(\\beta))^2)}{2})$$\n",
    " \n",
    "\n",
    "**Примечание 2.** \n",
    "\n",
    "Для сравнения результатов п.2 и п.3 используйте одни и те же сгенерированные наблюдения. \n"
   ]
  }
 ],
 "metadata": {
  "kernelspec": {
   "display_name": "Python 3",
   "language": "python",
   "name": "python3"
  },
  "language_info": {
   "codemirror_mode": {
    "name": "ipython",
    "version": 3
   },
   "file_extension": ".py",
   "mimetype": "text/x-python",
   "name": "python",
   "nbconvert_exporter": "python",
   "pygments_lexer": "ipython3",
   "version": "3.7.7"
  }
 },
 "nbformat": 4,
 "nbformat_minor": 4
}
